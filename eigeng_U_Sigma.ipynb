{
 "cells": [
  {
   "cell_type": "code",
   "execution_count": 1,
   "id": "e9ab8732",
   "metadata": {},
   "outputs": [],
   "source": [
    "import numpy as np\n",
    "from sklearn.preprocessing import normalize\n",
    "\n",
    "def SVD_U_Sigma(X, V):\n",
    "    M = np.dot(X, V.T)\n",
    "    sigmas = np.linalg.norm(M, axis=0)\n",
    "    U = normalize(M, axis=0, norm='l2')\n",
    "    return U, sigmas"
   ]
  }
 ],
 "metadata": {
  "kernelspec": {
   "display_name": "Ozon",
   "language": "python",
   "name": "ozon"
  },
  "language_info": {
   "codemirror_mode": {
    "name": "ipython",
    "version": 3
   },
   "file_extension": ".py",
   "mimetype": "text/x-python",
   "name": "python",
   "nbconvert_exporter": "python",
   "pygments_lexer": "ipython3",
   "version": "3.7.9"
  }
 },
 "nbformat": 4,
 "nbformat_minor": 5
}
