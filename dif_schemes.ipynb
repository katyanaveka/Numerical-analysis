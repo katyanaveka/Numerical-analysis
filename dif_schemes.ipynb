{
 "cells": [
  {
   "cell_type": "code",
   "execution_count": 1,
   "metadata": {},
   "outputs": [],
   "source": [
    "import numpy as np\n",
    "import matplotlib\n",
    "import matplotlib.pyplot as plt\n",
    "import _pydecimal\n",
    "from _pydecimal import Context, MAX_EMAX, MAX_PREC, MIN_EMIN"
   ]
  },
  {
   "cell_type": "markdown",
   "metadata": {},
   "source": [
    "# Аналитическое решение линейной задачи"
   ]
  },
  {
   "cell_type": "code",
   "execution_count": 2,
   "metadata": {},
   "outputs": [],
   "source": [
    "def fu(x):\n",
    "    if x<=-0.5:\n",
    "        return 0\n",
    "    if (x>-0.5) and (x<=-0.25):\n",
    "        return 4*x+2\n",
    "    if (x>-0.25):\n",
    "        return 1"
   ]
  },
  {
   "cell_type": "code",
   "execution_count": 3,
   "metadata": {},
   "outputs": [],
   "source": [
    "def lin(h, tau):\n",
    "    xmin = -1\n",
    "    xmax = 1\n",
    "    x= [] \n",
    "    u= []\n",
    "    for i in range(-int(1/h), int(1/h)+1):\n",
    "        x.append(i*h)\n",
    "    for i in range(len(x)):\n",
    "        u.append(fu(x[i]))\n",
    "    return u\n"
   ]
  },
  {
   "cell_type": "markdown",
   "metadata": {},
   "source": [
    "# Аналитическое решение нелинейной задачи"
   ]
  },
  {
   "cell_type": "code",
   "execution_count": 4,
   "metadata": {},
   "outputs": [],
   "source": [
    "def fun(x):\n",
    "    if x<=-3/8:\n",
    "        return 0\n",
    "    if x>-3/8:\n",
    "        return 1\n",
    "\n"
   ]
  },
  {
   "cell_type": "code",
   "execution_count": 5,
   "metadata": {},
   "outputs": [],
   "source": [
    "def nelin(h, tau):\n",
    "    xmin = -1\n",
    "    xmax = 1\n",
    "    x= [] \n",
    "    u=[]\n",
    "    for i in range(-int(1/h), int(1/h)+1):\n",
    "        x.append(i*h)\n",
    "    \n",
    "    for i in range(len(x)):\n",
    "        u.append(fun(x[i]))\n",
    "        \n",
    "    return u  \n"
   ]
  },
  {
   "cell_type": "markdown",
   "metadata": {},
   "source": [
    "# Явная схема для линейной задачи"
   ]
  },
  {
   "cell_type": "code",
   "execution_count": 6,
   "metadata": {},
   "outputs": [],
   "source": [
    "def lay_zero(x):\n",
    "    if x <= 0:\n",
    "        return 0\n",
    "    elif x > 0.25:\n",
    "        return 1\n",
    "    else:\n",
    "        return 4*x\n",
    "    "
   ]
  },
  {
   "cell_type": "code",
   "execution_count": 7,
   "metadata": {},
   "outputs": [],
   "source": [
    "def expl_scheme(h, tau):\n",
    "    \n",
    "    xmin = -1\n",
    "    xmax = 1\n",
    "    tmax = 1\n",
    "    tmin = 0\n",
    "\n",
    "    n=int((tmax-tmin)/tau)\n",
    "    m=int(((xmax-xmin)/h))*2\n",
    "    \n",
    "    x=[]\n",
    "    for i in range(-int(2/h), int(2/h)+1):\n",
    "        x.append(i*h)\n",
    "    m=len(x)\n",
    "\n",
    "    prev = [0 for i in range(m)]\n",
    "    curr = [0 for i in range(m)]\n",
    "    nex = [0 for i in range(m)]\n",
    "\n",
    "    \n",
    "    for i in range(m):\n",
    "        x[i]=2*xmin+h*i\n",
    "        prev[i]= lay_zero(x[i])\n",
    "        \n",
    "    for i in range(m-1):\n",
    "        curr[i]= prev[i]+tau/(2*h)*(prev[i+1]-prev[i])\n",
    "        \n",
    "    for i in range(1,n):   \n",
    "\n",
    "        for j in range(m-1):\n",
    "            \n",
    "            nex[j]=prev[j] +(tau/(2*h)) * (curr[j+1] - curr[j-1])\n",
    "            #print(nex[j])\n",
    "\n",
    "        for  j in range(m):\n",
    "            prev[j]=curr[j]\n",
    "            curr[j]=nex[j]\n",
    "    return nex[m//4:3*m//4+1]\n"
   ]
  },
  {
   "cell_type": "markdown",
   "metadata": {},
   "source": [
    "# Явная схема для нелинейной задачи"
   ]
  },
  {
   "cell_type": "code",
   "execution_count": 8,
   "metadata": {},
   "outputs": [],
   "source": [
    "def expl_scheme_(h, tau):\n",
    "    \n",
    "    #xmin = Context(Emin=-MIN_EMIN**100, Emax=MAX_EMAX**100, prec=MAX_PREC**100).create_decimal(-1)\n",
    "    #xmax = Context(Emin=-MIN_EMIN**100, Emax=MAX_EMAX**100, prec=MAX_PREC**100).create_decimal(1)\n",
    "    #tmax = Context(Emin=-MIN_EMIN**100, Emax=MAX_EMAX**100, prec=MAX_PREC**100).create_decimal(1)\n",
    "    #tmin = Context(Emin=-MIN_EMIN**100, Emax=MAX_EMAX**100, prec=MAX_PREC**100).create_decimal(0)\n",
    "\n",
    "    \n",
    "    #x = [Context(Emin=-MIN_EMIN**100, Emax=MAX_EMAX**100, prec=MAX_PREC**100).create_decimal(0) for i in range(m)]\n",
    "\n",
    "    #prev = [Context(Emin=-MIN_EMIN**100, Emax=MAX_EMAX**100, prec=MAX_PREC**100).create_decimal(0) for i in range(m)]\n",
    "    #curr = [Context(Emin=-MIN_EMIN**100, Emax=MAX_EMAX**100, prec=MAX_PREC**100).create_decimal(0) for i in range(m)]\n",
    "    #nex = [Context(Emin=-MIN_EMIN**100, Emax=MAX_EMAX**100, prec=MAX_PREC**100).create_decimal(0) for i in range(m)]\n",
    "    xmin = -1\n",
    "    xmax = 1\n",
    "    tmax = 1\n",
    "    tmin = 0\n",
    "\n",
    "    n=int((tmax-tmin)/tau)\n",
    "    m=int(((xmax-xmin)/h))*2\n",
    "    \n",
    "    x=[]\n",
    "    for i in range(-int(2/h), int(2/h)+1):\n",
    "        x.append(i*h)\n",
    "    m=len(x)\n",
    "\n",
    "    prev = [0 for i in range(m)]\n",
    "    curr = [0 for i in range(m)]\n",
    "    nex = [0 for i in range(m)]\n",
    "    \n",
    "    for i in range(m):\n",
    "        x[i]=2*xmin+h*i\n",
    "        prev[i]= lay_zero(x[i])\n",
    "        \n",
    "    for i in range(m-1):\n",
    "        curr[i]= prev[i]+tau/h*(prev[i+1]**2-prev[i]**2)\n",
    "        \n",
    "    for i in range(1,n):   \n",
    "        #print(i)\n",
    "        for j in range(m-1):\n",
    "            \n",
    "            nex[j]=prev[j] +(tau/(2*h)) * (curr[j+1]**2 - curr[j-1]**2)\n",
    "            #print(nex[j])\n",
    "\n",
    "        for  j in range(m):\n",
    "            prev[j]=curr[j]\n",
    "            curr[j]=nex[j]\n",
    "    return nex[m//4:3*m//4+1]\n"
   ]
  },
  {
   "cell_type": "markdown",
   "metadata": {},
   "source": [
    "# Неявная схема для линейной задачи"
   ]
  },
  {
   "cell_type": "code",
   "execution_count": 88,
   "metadata": {},
   "outputs": [],
   "source": [
    "def nonexpl_scheme(h,tau):      \n",
    "    xmin= -1\n",
    "    xmax= 1\n",
    "    tmax= 1\n",
    "    tmin= 0\n",
    "    test= -1\n",
    "\n",
    "    n=int((tmax-tmin)/tau)+1\n",
    "    x=[]\n",
    "    for i in range(-int(1/h), int(1/h)+1):\n",
    "        x.append(i*h)\n",
    "    \n",
    "    curr=[0 for i in range(len(x))]\n",
    "    nex = [0 for i in range(len(x))]\n",
    "\n",
    "    for i in range(len(x)):\n",
    "        curr[i] = lay_zero(x[i])\n",
    "\n",
    "    for i in range(n):\n",
    "        nex[len(x)-1]=1\n",
    "        for j in range(len(x)-2,0,-1):\n",
    "            nex[j]=(2*h*curr[j+1] + (tau - 2*h)*nex[j+1])/tau\n",
    "        #print(nex)\n",
    "            \n",
    "        for j in range(len(x)):\n",
    "            curr[j]=nex[j]\n",
    "    \n",
    "    return nex\n"
   ]
  },
  {
   "cell_type": "markdown",
   "metadata": {},
   "source": [
    "# Неявная схема для нелинейной задачи"
   ]
  },
  {
   "cell_type": "code",
   "execution_count": 127,
   "metadata": {},
   "outputs": [],
   "source": [
    "def nonexpl_scheme_(h,tau):      \n",
    "    xmin= -1\n",
    "    xmax= 1\n",
    "    tmax= 1\n",
    "    tmin= 0\n",
    "    test= -1\n",
    "\n",
    "    n=int((tmax-tmin)/tau)+1\n",
    "    x=[]\n",
    "    for i in range(-int(1/h), int(1/h)+1):\n",
    "        x.append(i*h)\n",
    "    \n",
    "    curr=[0 for i in range(len(x))]\n",
    "    nex = [0 for i in range(len(x))]\n",
    "\n",
    "    for i in range(len(x)):\n",
    "        curr[i] = lay_zero(x[i])\n",
    "\n",
    "    for i in range(n):\n",
    "        nex[len(x)-1]=1\n",
    "        for j in range(len(x)-2,0,-1):\n",
    "            if (nex[j+1]**2 - (2*h/tau)*(nex[j+1] - curr[j])) < 0: \n",
    "                nex[j]=0\n",
    "            else:\n",
    "                nex[j]=(nex[j+1]**2 - (2*h/tau)*(nex[j+1] - curr[j]))**0.5 \n",
    "            \n",
    "            #print(x[j],curr[j])\n",
    "            \n",
    "        for j in range(len(x)):\n",
    "            curr[j]=nex[j]\n",
    "    return nex\n"
   ]
  },
  {
   "cell_type": "markdown",
   "metadata": {},
   "source": [
    "# График"
   ]
  },
  {
   "cell_type": "code",
   "execution_count": 146,
   "metadata": {},
   "outputs": [
    {
     "data": {
      "image/png": "[encoded data removed]",
      "text/plain": [
       "<Figure size 720x720 with 1 Axes>"
      ]
     },
     "metadata": {
      "needs_background": "light"
     },
     "output_type": "display_data"
    }
   ],
   "source": [
    "fig, ax = plt.subplots(figsize=(10, 10))\n",
    "\n",
    "\n",
    "#h=Context(Emin=-MIN_EMIN**100, Emax=MAX_EMAX**100, prec=MAX_PREC**100).create_decimal(0.01)\n",
    "#tau=Context(Emin=-MIN_EMIN**100, Emax=MAX_EMAX**100, prec=MAX_PREC**100).create_decimal(0.01)\n",
    "h=0.001\n",
    "tau=0.01\n",
    "coordinate = [] \n",
    "for x in range(-int(1/h), int(1/h)+1):\n",
    "    coordinate.append(x*h)\n",
    "ax.plot(coordinate, lin(h,tau), label=\"аналитическое решение\")\n",
    "\n",
    "ax.plot(coordinate, nonexpl_scheme(h, tau), label=\"теоретическое решение\")\n",
    "\n",
    "ax.set_title('Линейный случай, неявная схема')\n",
    "\n",
    "ax.legend()\n",
    "plt.show()"
   ]
  },
  {
   "cell_type": "markdown",
   "metadata": {
    "scrolled": false
   },
   "source": [
    "# Погрешности"
   ]
  },
  {
   "cell_type": "code",
   "execution_count": 145,
   "metadata": {},
   "outputs": [
    {
     "name": "stdout",
     "output_type": "stream",
     "text": [
      "1.0\n",
      "1\n",
      "0.83\n",
      "19.0\n",
      "1.0\n",
      "1.0\n",
      "199.0\n",
      "19.0\n",
      "1.0\n"
     ]
    }
   ],
   "source": [
    "h = 0.1\n",
    "tau = 0.1\n",
    "pogr_nepr = 0.0\n",
    "sum0=0\n",
    "sum1=0\n",
    "pogr_nepr_norm=0\n",
    "pogr_norm =0\n",
    "pogr_check =0\n",
    "x=[]\n",
    "\n",
    "for i in range(-int(1/h), int(1/h)+1):\n",
    "    x.append(i*h)\n",
    "\n",
    "ut = nelin(h,tau)\n",
    "u = nonexpl_scheme_(h,tau)\n",
    "\n",
    "for t in range(3):\n",
    "    h=0.1\n",
    "    for sh in range(3):\n",
    "        x=[]\n",
    "        for i in range(-int(1/h), int(1/h)+1):\n",
    "            x.append(i*h)\n",
    "        exc=1\n",
    "        try:\n",
    "            ut = nelin(h,tau)\n",
    "            u = nonexpl_scheme_(h,tau)\n",
    "        except OverflowError:\n",
    "            print(\"nan\")\n",
    "            exc=0\n",
    "        if exc:\n",
    "            pogr_nepr = 0.0\n",
    "            sum0=0\n",
    "            sum1=0\n",
    "            pogr_nepr_norm=0\n",
    "            pogr_norm =0\n",
    "            pogr_check =0\n",
    "            for i in range(len(x)):\n",
    "                check = abs(u[i]-ut[i])\n",
    "                sum0 += h*check\n",
    "                sum1 += h*abs(u[i])\n",
    "                if check>pogr_nepr:\n",
    "                    pogr_nepr = check\n",
    "                check_1 = u[i]\n",
    "                if check_1>=pogr_check:\n",
    "                    pogr_check = u[i]\n",
    "                if sum1!=0:\n",
    "                    pogr_norm = sum0/sum1\n",
    "                if pogr_check!=0:\n",
    "                    pogr_nepr_norm = pogr_nepr/pogr_check\n",
    "            print(round(pogr_nepr,2))#, pogr_nepr, sum0, pogr_nepr_norm, pogr_norm)\n",
    "        h*=0.1\n",
    "    tau*=0.1"
   ]
  },
  {
   "cell_type": "code",
   "execution_count": null,
   "metadata": {},
   "outputs": [],
   "source": []
  },
  {
   "cell_type": "code",
   "execution_count": null,
   "metadata": {},
   "outputs": [],
   "source": []
  }
 ],
 "metadata": {
  "kernelspec": {
   "display_name": "Python 3",
   "language": "python",
   "name": "python3"
  },
  "language_info": {
   "codemirror_mode": {
    "name": "ipython",
    "version": 3
   },
   "file_extension": ".py",
   "mimetype": "text/x-python",
   "name": "python",
   "nbconvert_exporter": "python",
   "pygments_lexer": "ipython3",
   "version": "3.8.5"
  }
 },
 "nbformat": 4,
 "nbformat_minor": 4
}
